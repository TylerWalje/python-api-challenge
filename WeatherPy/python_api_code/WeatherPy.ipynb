{
 "cells": [
  {
   "cell_type": "markdown",
   "metadata": {},
   "source": [
    "# WeatherPy\n",
    "\n",
    "---\n",
    "\n",
    "## Starter Code to Generate Random Geographic Coordinates and a List of Cities"
   ]
  },
  {
   "cell_type": "code",
   "execution_count": 4,
   "metadata": {
    "scrolled": true
   },
   "outputs": [],
   "source": [
    "# Dependencies and Setup\n",
    "import matplotlib.pyplot as plt\n",
    "import pandas as pd\n",
    "import numpy as np\n",
    "import requests\n",
    "import time\n",
    "from scipy.stats import linregress\n",
    "\n",
    "# Impor the OpenWeatherMap API key\n",
    "from api_keys import weather_api_key\n",
    "\n",
    "# Import citipy to determine the cities based on latitude and longitude\n",
    "from citipy import citipy"
   ]
  },
  {
   "cell_type": "markdown",
   "metadata": {},
   "source": [
    "### Generate the Cities List by Using the `citipy` Library"
   ]
  },
  {
   "cell_type": "code",
   "execution_count": 5,
   "metadata": {},
   "outputs": [
    {
     "name": "stdout",
     "output_type": "stream",
     "text": [
      "Number of cities in the list: 566\n"
     ]
    }
   ],
   "source": [
    "# Empty list for holding the latitude and longitude combinations\n",
    "lat_lngs = []\n",
    "\n",
    "# Empty list for holding the cities names\n",
    "cities = []\n",
    "\n",
    "# Range of latitudes and longitudes\n",
    "lat_range = (-90, 90)\n",
    "lng_range = (-180, 180)\n",
    "\n",
    "# Create a set of random lat and lng combinations\n",
    "lats = np.random.uniform(lat_range[0], lat_range[1], size=1500)\n",
    "lngs = np.random.uniform(lng_range[0], lng_range[1], size=1500)\n",
    "lat_lngs = zip(lats, lngs)\n",
    "\n",
    "# Identify nearest city for each lat, lng combination\n",
    "for lat_lng in lat_lngs:\n",
    "    city = citipy.nearest_city(lat_lng[0], lat_lng[1]).city_name\n",
    "    \n",
    "    # If the city is unique, then add it to a our cities list\n",
    "    if city not in cities:\n",
    "        cities.append(city)\n",
    "\n",
    "# Print the city count to confirm sufficient count\n",
    "print(f\"Number of cities in the list: {len(cities)}\")"
   ]
  },
  {
   "cell_type": "markdown",
   "metadata": {},
   "source": [
    "---"
   ]
  },
  {
   "cell_type": "markdown",
   "metadata": {},
   "source": [
    "## Requirement 1: Create Plots to Showcase the Relationship Between Weather Variables and Latitude\n",
    "\n",
    "### Use the OpenWeatherMap API to retrieve weather data from the cities list generated in the started code"
   ]
  },
  {
   "cell_type": "code",
   "execution_count": null,
   "metadata": {},
   "outputs": [
    {
     "name": "stdout",
     "output_type": "stream",
     "text": [
      "Beginning Data Retrieval     \n",
      "-----------------------------\n",
      "https://api.openweathermap.org/data/2.5/weather?q=bredasdorp&appid=8f69b0d90ac3d06edbf47543e3647cac&units=metric\n",
      "Processing Record 1 of Set 1 | bredasdorp\n",
      "https://api.openweathermap.org/data/2.5/weather?q=ribeira grande&appid=8f69b0d90ac3d06edbf47543e3647cac&units=metric\n",
      "Processing Record 2 of Set 1 | ribeira grande\n",
      "https://api.openweathermap.org/data/2.5/weather?q=shawinigan&appid=8f69b0d90ac3d06edbf47543e3647cac&units=metric\n",
      "Processing Record 3 of Set 1 | shawinigan\n",
      "https://api.openweathermap.org/data/2.5/weather?q=gadzhiyevo&appid=8f69b0d90ac3d06edbf47543e3647cac&units=metric\n",
      "Processing Record 4 of Set 1 | gadzhiyevo\n",
      "https://api.openweathermap.org/data/2.5/weather?q=yellowknife&appid=8f69b0d90ac3d06edbf47543e3647cac&units=metric\n",
      "Processing Record 5 of Set 1 | yellowknife\n",
      "https://api.openweathermap.org/data/2.5/weather?q=jamestown&appid=8f69b0d90ac3d06edbf47543e3647cac&units=metric\n",
      "Processing Record 6 of Set 1 | jamestown\n",
      "https://api.openweathermap.org/data/2.5/weather?q=adamstown&appid=8f69b0d90ac3d06edbf47543e3647cac&units=metric\n",
      "Processing Record 7 of Set 1 | adamstown\n",
      "https://api.openweathermap.org/data/2.5/weather?q=sturgeon bay&appid=8f69b0d90ac3d06edbf47543e3647cac&units=metric\n",
      "Processing Record 8 of Set 1 | sturgeon bay\n",
      "https://api.openweathermap.org/data/2.5/weather?q=porto novo&appid=8f69b0d90ac3d06edbf47543e3647cac&units=metric\n",
      "Processing Record 9 of Set 1 | porto novo\n",
      "https://api.openweathermap.org/data/2.5/weather?q=archangelos&appid=8f69b0d90ac3d06edbf47543e3647cac&units=metric\n",
      "Processing Record 10 of Set 1 | archangelos\n",
      "https://api.openweathermap.org/data/2.5/weather?q=edinburgh of the seven seas&appid=8f69b0d90ac3d06edbf47543e3647cac&units=metric\n",
      "Processing Record 11 of Set 1 | edinburgh of the seven seas\n",
      "https://api.openweathermap.org/data/2.5/weather?q=fonte boa&appid=8f69b0d90ac3d06edbf47543e3647cac&units=metric\n",
      "Processing Record 12 of Set 1 | fonte boa\n",
      "https://api.openweathermap.org/data/2.5/weather?q=albany&appid=8f69b0d90ac3d06edbf47543e3647cac&units=metric\n",
      "Processing Record 13 of Set 1 | albany\n",
      "https://api.openweathermap.org/data/2.5/weather?q=waitangi&appid=8f69b0d90ac3d06edbf47543e3647cac&units=metric\n",
      "Processing Record 14 of Set 1 | waitangi\n",
      "https://api.openweathermap.org/data/2.5/weather?q=sittwe&appid=8f69b0d90ac3d06edbf47543e3647cac&units=metric\n",
      "Processing Record 15 of Set 1 | sittwe\n",
      "https://api.openweathermap.org/data/2.5/weather?q=illapel&appid=8f69b0d90ac3d06edbf47543e3647cac&units=metric\n",
      "Processing Record 16 of Set 1 | illapel\n",
      "https://api.openweathermap.org/data/2.5/weather?q=nuuk&appid=8f69b0d90ac3d06edbf47543e3647cac&units=metric\n",
      "Processing Record 17 of Set 1 | nuuk\n",
      "https://api.openweathermap.org/data/2.5/weather?q=tiksi&appid=8f69b0d90ac3d06edbf47543e3647cac&units=metric\n",
      "Processing Record 18 of Set 1 | tiksi\n",
      "https://api.openweathermap.org/data/2.5/weather?q=olonkinbyen&appid=8f69b0d90ac3d06edbf47543e3647cac&units=metric\n",
      "Processing Record 19 of Set 1 | olonkinbyen\n",
      "https://api.openweathermap.org/data/2.5/weather?q=grytviken&appid=8f69b0d90ac3d06edbf47543e3647cac&units=metric\n",
      "Processing Record 20 of Set 1 | grytviken\n",
      "https://api.openweathermap.org/data/2.5/weather?q=puerto natales&appid=8f69b0d90ac3d06edbf47543e3647cac&units=metric\n",
      "Processing Record 21 of Set 1 | puerto natales\n",
      "https://api.openweathermap.org/data/2.5/weather?q=kataragama&appid=8f69b0d90ac3d06edbf47543e3647cac&units=metric\n",
      "Processing Record 22 of Set 1 | kataragama\n",
      "City not found. Skipping...\n",
      "https://api.openweathermap.org/data/2.5/weather?q=mammoth lakes&appid=8f69b0d90ac3d06edbf47543e3647cac&units=metric\n",
      "Processing Record 23 of Set 1 | mammoth lakes\n",
      "https://api.openweathermap.org/data/2.5/weather?q=bethel&appid=8f69b0d90ac3d06edbf47543e3647cac&units=metric\n",
      "Processing Record 24 of Set 1 | bethel\n",
      "https://api.openweathermap.org/data/2.5/weather?q=talnakh&appid=8f69b0d90ac3d06edbf47543e3647cac&units=metric\n",
      "Processing Record 25 of Set 1 | talnakh\n",
      "https://api.openweathermap.org/data/2.5/weather?q=bilibino&appid=8f69b0d90ac3d06edbf47543e3647cac&units=metric\n",
      "Processing Record 26 of Set 1 | bilibino\n",
      "https://api.openweathermap.org/data/2.5/weather?q=el granada&appid=8f69b0d90ac3d06edbf47543e3647cac&units=metric\n",
      "Processing Record 27 of Set 1 | el granada\n",
      "https://api.openweathermap.org/data/2.5/weather?q=avarua&appid=8f69b0d90ac3d06edbf47543e3647cac&units=metric\n",
      "Processing Record 28 of Set 1 | avarua\n",
      "https://api.openweathermap.org/data/2.5/weather?q=whitehorse&appid=8f69b0d90ac3d06edbf47543e3647cac&units=metric\n",
      "Processing Record 29 of Set 1 | whitehorse\n",
      "https://api.openweathermap.org/data/2.5/weather?q=vorkuta&appid=8f69b0d90ac3d06edbf47543e3647cac&units=metric\n",
      "Processing Record 30 of Set 1 | vorkuta\n",
      "https://api.openweathermap.org/data/2.5/weather?q=blackmans bay&appid=8f69b0d90ac3d06edbf47543e3647cac&units=metric\n",
      "Processing Record 31 of Set 1 | blackmans bay\n",
      "https://api.openweathermap.org/data/2.5/weather?q=stanley&appid=8f69b0d90ac3d06edbf47543e3647cac&units=metric\n",
      "Processing Record 32 of Set 1 | stanley\n",
      "https://api.openweathermap.org/data/2.5/weather?q=iskateley&appid=8f69b0d90ac3d06edbf47543e3647cac&units=metric\n",
      "Processing Record 33 of Set 1 | iskateley\n",
      "https://api.openweathermap.org/data/2.5/weather?q=port alfred&appid=8f69b0d90ac3d06edbf47543e3647cac&units=metric\n",
      "Processing Record 34 of Set 1 | port alfred\n",
      "https://api.openweathermap.org/data/2.5/weather?q=vinukonda&appid=8f69b0d90ac3d06edbf47543e3647cac&units=metric\n",
      "Processing Record 35 of Set 1 | vinukonda\n",
      "https://api.openweathermap.org/data/2.5/weather?q=kavaratti&appid=8f69b0d90ac3d06edbf47543e3647cac&units=metric\n",
      "Processing Record 36 of Set 1 | kavaratti\n",
      "https://api.openweathermap.org/data/2.5/weather?q=papatowai&appid=8f69b0d90ac3d06edbf47543e3647cac&units=metric\n",
      "Processing Record 37 of Set 1 | papatowai\n",
      "https://api.openweathermap.org/data/2.5/weather?q=port mathurin&appid=8f69b0d90ac3d06edbf47543e3647cac&units=metric\n",
      "Processing Record 38 of Set 1 | port mathurin\n",
      "https://api.openweathermap.org/data/2.5/weather?q=taiohae&appid=8f69b0d90ac3d06edbf47543e3647cac&units=metric\n",
      "Processing Record 39 of Set 1 | taiohae\n",
      "City not found. Skipping...\n",
      "https://api.openweathermap.org/data/2.5/weather?q=puerto san carlos&appid=8f69b0d90ac3d06edbf47543e3647cac&units=metric\n",
      "Processing Record 40 of Set 1 | puerto san carlos\n",
      "City not found. Skipping...\n",
      "https://api.openweathermap.org/data/2.5/weather?q=sitka&appid=8f69b0d90ac3d06edbf47543e3647cac&units=metric\n",
      "Processing Record 41 of Set 1 | sitka\n",
      "https://api.openweathermap.org/data/2.5/weather?q=russellville&appid=8f69b0d90ac3d06edbf47543e3647cac&units=metric\n",
      "Processing Record 42 of Set 1 | russellville\n",
      "https://api.openweathermap.org/data/2.5/weather?q=tolanaro&appid=8f69b0d90ac3d06edbf47543e3647cac&units=metric\n",
      "Processing Record 43 of Set 1 | tolanaro\n",
      "https://api.openweathermap.org/data/2.5/weather?q=east london&appid=8f69b0d90ac3d06edbf47543e3647cac&units=metric\n",
      "Processing Record 44 of Set 1 | east london\n",
      "https://api.openweathermap.org/data/2.5/weather?q=tahe&appid=8f69b0d90ac3d06edbf47543e3647cac&units=metric\n",
      "Processing Record 45 of Set 1 | tahe\n",
      "https://api.openweathermap.org/data/2.5/weather?q=tromso&appid=8f69b0d90ac3d06edbf47543e3647cac&units=metric\n",
      "Processing Record 46 of Set 1 | tromso\n",
      "https://api.openweathermap.org/data/2.5/weather?q=anadyr&appid=8f69b0d90ac3d06edbf47543e3647cac&units=metric\n",
      "Processing Record 47 of Set 1 | anadyr\n",
      "https://api.openweathermap.org/data/2.5/weather?q=inarajan village&appid=8f69b0d90ac3d06edbf47543e3647cac&units=metric\n",
      "Processing Record 48 of Set 1 | inarajan village\n",
      "https://api.openweathermap.org/data/2.5/weather?q=la ronge&appid=8f69b0d90ac3d06edbf47543e3647cac&units=metric\n",
      "Processing Record 49 of Set 1 | la ronge\n",
      "https://api.openweathermap.org/data/2.5/weather?q=thompson&appid=8f69b0d90ac3d06edbf47543e3647cac&units=metric\n",
      "Processing Record 50 of Set 1 | thompson\n",
      "https://api.openweathermap.org/data/2.5/weather?q=mudanjiang&appid=8f69b0d90ac3d06edbf47543e3647cac&units=metric\n",
      "Processing Record 0 of Set 2 | mudanjiang\n",
      "https://api.openweathermap.org/data/2.5/weather?q=nyurba&appid=8f69b0d90ac3d06edbf47543e3647cac&units=metric\n",
      "Processing Record 1 of Set 2 | nyurba\n",
      "https://api.openweathermap.org/data/2.5/weather?q=udachny&appid=8f69b0d90ac3d06edbf47543e3647cac&units=metric\n",
      "Processing Record 2 of Set 2 | udachny\n"
     ]
    },
    {
     "name": "stdout",
     "output_type": "stream",
     "text": [
      "https://api.openweathermap.org/data/2.5/weather?q=fortuna&appid=8f69b0d90ac3d06edbf47543e3647cac&units=metric\n",
      "Processing Record 3 of Set 2 | fortuna\n",
      "https://api.openweathermap.org/data/2.5/weather?q=nabire&appid=8f69b0d90ac3d06edbf47543e3647cac&units=metric\n",
      "Processing Record 4 of Set 2 | nabire\n",
      "https://api.openweathermap.org/data/2.5/weather?q=malabar&appid=8f69b0d90ac3d06edbf47543e3647cac&units=metric\n",
      "Processing Record 5 of Set 2 | malabar\n",
      "https://api.openweathermap.org/data/2.5/weather?q=port-aux-francais&appid=8f69b0d90ac3d06edbf47543e3647cac&units=metric\n",
      "Processing Record 6 of Set 2 | port-aux-francais\n",
      "https://api.openweathermap.org/data/2.5/weather?q=iqaluit&appid=8f69b0d90ac3d06edbf47543e3647cac&units=metric\n",
      "Processing Record 7 of Set 2 | iqaluit\n",
      "https://api.openweathermap.org/data/2.5/weather?q=north bend&appid=8f69b0d90ac3d06edbf47543e3647cac&units=metric\n",
      "Processing Record 8 of Set 2 | north bend\n",
      "https://api.openweathermap.org/data/2.5/weather?q=kodiak&appid=8f69b0d90ac3d06edbf47543e3647cac&units=metric\n",
      "Processing Record 9 of Set 2 | kodiak\n",
      "https://api.openweathermap.org/data/2.5/weather?q=queenstown&appid=8f69b0d90ac3d06edbf47543e3647cac&units=metric\n",
      "Processing Record 10 of Set 2 | queenstown\n",
      "https://api.openweathermap.org/data/2.5/weather?q=morris&appid=8f69b0d90ac3d06edbf47543e3647cac&units=metric\n",
      "Processing Record 11 of Set 2 | morris\n",
      "https://api.openweathermap.org/data/2.5/weather?q=flying fish cove&appid=8f69b0d90ac3d06edbf47543e3647cac&units=metric\n",
      "Processing Record 12 of Set 2 | flying fish cove\n",
      "https://api.openweathermap.org/data/2.5/weather?q=nizhneudinsk&appid=8f69b0d90ac3d06edbf47543e3647cac&units=metric\n",
      "Processing Record 13 of Set 2 | nizhneudinsk\n",
      "https://api.openweathermap.org/data/2.5/weather?q=puerto aysen&appid=8f69b0d90ac3d06edbf47543e3647cac&units=metric\n",
      "Processing Record 14 of Set 2 | puerto aysen\n",
      "https://api.openweathermap.org/data/2.5/weather?q=okha&appid=8f69b0d90ac3d06edbf47543e3647cac&units=metric\n",
      "Processing Record 15 of Set 2 | okha\n",
      "https://api.openweathermap.org/data/2.5/weather?q=neon karlovasion&appid=8f69b0d90ac3d06edbf47543e3647cac&units=metric\n",
      "Processing Record 16 of Set 2 | neon karlovasion\n",
      "https://api.openweathermap.org/data/2.5/weather?q=fitzgerald&appid=8f69b0d90ac3d06edbf47543e3647cac&units=metric\n",
      "Processing Record 17 of Set 2 | fitzgerald\n",
      "https://api.openweathermap.org/data/2.5/weather?q=port elizabeth&appid=8f69b0d90ac3d06edbf47543e3647cac&units=metric\n",
      "Processing Record 18 of Set 2 | port elizabeth\n",
      "https://api.openweathermap.org/data/2.5/weather?q=antonio enes&appid=8f69b0d90ac3d06edbf47543e3647cac&units=metric\n",
      "Processing Record 19 of Set 2 | antonio enes\n",
      "https://api.openweathermap.org/data/2.5/weather?q=weno&appid=8f69b0d90ac3d06edbf47543e3647cac&units=metric\n",
      "Processing Record 20 of Set 2 | weno\n",
      "https://api.openweathermap.org/data/2.5/weather?q=ushuaia&appid=8f69b0d90ac3d06edbf47543e3647cac&units=metric\n",
      "Processing Record 21 of Set 2 | ushuaia\n",
      "https://api.openweathermap.org/data/2.5/weather?q=millau&appid=8f69b0d90ac3d06edbf47543e3647cac&units=metric\n",
      "Processing Record 22 of Set 2 | millau\n",
      "https://api.openweathermap.org/data/2.5/weather?q=hamilton&appid=8f69b0d90ac3d06edbf47543e3647cac&units=metric\n",
      "Processing Record 23 of Set 2 | hamilton\n",
      "https://api.openweathermap.org/data/2.5/weather?q=afaahiti&appid=8f69b0d90ac3d06edbf47543e3647cac&units=metric\n",
      "Processing Record 24 of Set 2 | afaahiti\n",
      "https://api.openweathermap.org/data/2.5/weather?q=rio grande&appid=8f69b0d90ac3d06edbf47543e3647cac&units=metric\n",
      "Processing Record 25 of Set 2 | rio grande\n",
      "https://api.openweathermap.org/data/2.5/weather?q=ouesso&appid=8f69b0d90ac3d06edbf47543e3647cac&units=metric\n",
      "Processing Record 26 of Set 2 | ouesso\n",
      "https://api.openweathermap.org/data/2.5/weather?q=cuajinicuilapa&appid=8f69b0d90ac3d06edbf47543e3647cac&units=metric\n",
      "Processing Record 27 of Set 2 | cuajinicuilapa\n",
      "https://api.openweathermap.org/data/2.5/weather?q=ta`u&appid=8f69b0d90ac3d06edbf47543e3647cac&units=metric\n",
      "Processing Record 28 of Set 2 | ta`u\n",
      "https://api.openweathermap.org/data/2.5/weather?q=dudinka&appid=8f69b0d90ac3d06edbf47543e3647cac&units=metric\n",
      "Processing Record 29 of Set 2 | dudinka\n",
      "https://api.openweathermap.org/data/2.5/weather?q=college&appid=8f69b0d90ac3d06edbf47543e3647cac&units=metric\n",
      "Processing Record 30 of Set 2 | college\n",
      "https://api.openweathermap.org/data/2.5/weather?q=nemuro&appid=8f69b0d90ac3d06edbf47543e3647cac&units=metric\n",
      "Processing Record 31 of Set 2 | nemuro\n",
      "https://api.openweathermap.org/data/2.5/weather?q=ji'an&appid=8f69b0d90ac3d06edbf47543e3647cac&units=metric\n",
      "Processing Record 32 of Set 2 | ji'an\n",
      "https://api.openweathermap.org/data/2.5/weather?q=tazovsky&appid=8f69b0d90ac3d06edbf47543e3647cac&units=metric\n",
      "Processing Record 33 of Set 2 | tazovsky\n",
      "https://api.openweathermap.org/data/2.5/weather?q=lospalos&appid=8f69b0d90ac3d06edbf47543e3647cac&units=metric\n",
      "Processing Record 34 of Set 2 | lospalos\n"
     ]
    }
   ],
   "source": [
    "# Set the API base URL\n",
    "url = \"https://api.openweathermap.org/data/2.5/weather?\"\n",
    "\n",
    "# Define an empty list to fetch the weather data for each city\n",
    "city_data = []\n",
    "\n",
    "# Print to logger\n",
    "print(\"Beginning Data Retrieval     \")\n",
    "print(\"-----------------------------\")\n",
    "\n",
    "# Create counters\n",
    "record_count = 1\n",
    "set_count = 1\n",
    "\n",
    "# Loop through all the cities in our list to fetch weather data\n",
    "for i, city in enumerate(cities):\n",
    "        \n",
    "    # Group cities in sets of 50 for logging purposes\n",
    "    if (i % 50 == 0 and i >= 50):\n",
    "        set_count += 1\n",
    "        record_count = 0\n",
    "\n",
    "    # Create endpoint URL with each city\n",
    "    city_url = f\"{url}q={city}&appid=8f69b0d90ac3d06edbf47543e3647cac&units=metric\"\n",
    "\n",
    "    \n",
    "    print(city_url)\n",
    "    \n",
    "    # Log the url, record, and set numbers\n",
    "    print(\"Processing Record %s of Set %s | %s\" % (record_count, set_count, city))\n",
    "\n",
    "    # Add 1 to the record count\n",
    "    record_count += 1\n",
    "\n",
    "    # Run an API request for each of the cities\n",
    "    try:\n",
    "        # Parse the JSON and retrieve data\n",
    "        city_weather = requests.get(city_url).json()\n",
    "\n",
    "        # Parse out latitude, longitude, max temp, humidity, cloudiness, wind speed, country, and date\n",
    "        city_lat = city_weather['coord']['lat']\n",
    "        city_lng = city_weather['coord']['lon']\n",
    "        city_max_temp = city_weather['main']['temp_max']\n",
    "        city_humidity = city_weather['main']['humidity']\n",
    "        city_clouds = city_weather['clouds']['all']\n",
    "        city_wind = city_weather['wind']['speed']\n",
    "        city_country = city_weather['sys']['country']\n",
    "        city_date = city_weather['dt']\n",
    "\n",
    "        # Append the City information into city_data list\n",
    "        city_data.append({\"City\": city, \n",
    "                          \"Lat\": city_lat, \n",
    "                          \"Lng\": city_lng, \n",
    "                          \"Max Temp\": city_max_temp,\n",
    "                          \"Humidity\": city_humidity,\n",
    "                          \"Cloudiness\": city_clouds,\n",
    "                          \"Wind Speed\": city_wind,\n",
    "                          \"Country\": city_country,\n",
    "                          \"Date\": city_date})\n",
    "\n",
    "    # If an error is experienced, skip the city\n",
    "    except:\n",
    "        print(\"City not found. Skipping...\")\n",
    "        pass\n",
    "              \n",
    "# Indicate that Data Loading is complete \n",
    "print(\"-----------------------------\")\n",
    "print(\"Data Retrieval Complete      \")\n",
    "print(\"-----------------------------\")"
   ]
  },
  {
   "cell_type": "code",
   "execution_count": 6,
   "metadata": {},
   "outputs": [
    {
     "name": "stdout",
     "output_type": "stream",
     "text": [
      "{\"cod\":401, \"message\": \"Invalid API key. Please see https://openweathermap.org/faq#error401 for more info.\"}\n"
     ]
    }
   ],
   "source": []
  },
  {
   "cell_type": "code",
   "execution_count": null,
   "metadata": {},
   "outputs": [],
   "source": [
    "# Convert the cities weather data into a Pandas DataFrame\n",
    "city_data_df = # YOUR CODE HERE\n",
    "\n",
    "# Show Record Count\n",
    "city_data_df.count()"
   ]
  },
  {
   "cell_type": "code",
   "execution_count": null,
   "metadata": {},
   "outputs": [],
   "source": [
    "# Display sample data\n",
    "city_data_df.head()"
   ]
  },
  {
   "cell_type": "code",
   "execution_count": null,
   "metadata": {},
   "outputs": [],
   "source": [
    "# Export the City_Data into a csv\n",
    "city_data_df.to_csv(\"output_data/cities.csv\", index_label=\"City_ID\")"
   ]
  },
  {
   "cell_type": "code",
   "execution_count": null,
   "metadata": {},
   "outputs": [],
   "source": [
    "# Read saved data\n",
    "city_data_df = pd.read_csv(\"output_data/cities.csv\", index_col=\"City_ID\")\n",
    "\n",
    "# Display sample data\n",
    "city_data_df.head()"
   ]
  },
  {
   "cell_type": "markdown",
   "metadata": {},
   "source": [
    "### Create the Scatter Plots Requested\n",
    "\n",
    "#### Latitude Vs. Temperature"
   ]
  },
  {
   "cell_type": "code",
   "execution_count": null,
   "metadata": {
    "tags": []
   },
   "outputs": [],
   "source": [
    "# Build scatter plot for latitude vs. temperature\n",
    "# YOUR CODE HERE\n",
    "\n",
    "# Incorporate the other graph properties\n",
    "# YOUR CODE HERE\n",
    "\n",
    "# Save the figure\n",
    "plt.savefig(\"output_data/Fig1.png\")\n",
    "\n",
    "# Show plot\n",
    "plt.show()"
   ]
  },
  {
   "cell_type": "markdown",
   "metadata": {},
   "source": [
    "#### Latitude Vs. Humidity"
   ]
  },
  {
   "cell_type": "code",
   "execution_count": null,
   "metadata": {},
   "outputs": [],
   "source": [
    "# Build the scatter plots for latitude vs. humidity\n",
    "# YOUR CODE HERE\n",
    "\n",
    "# Incorporate the other graph properties\n",
    "# YOUR CODE HERE\n",
    "\n",
    "# Save the figure\n",
    "plt.savefig(\"output_data/Fig2.png\")\n",
    "\n",
    "# Show plot\n",
    "plt.show()"
   ]
  },
  {
   "cell_type": "markdown",
   "metadata": {},
   "source": [
    "#### Latitude Vs. Cloudiness"
   ]
  },
  {
   "cell_type": "code",
   "execution_count": null,
   "metadata": {},
   "outputs": [],
   "source": [
    "# Build the scatter plots for latitude vs. cloudiness\n",
    "# YOUR CODE HERE\n",
    "\n",
    "# Incorporate the other graph properties\n",
    "# YOUR CODE HERE\n",
    "\n",
    "# Save the figure\n",
    "plt.savefig(\"output_data/Fig3.png\")\n",
    "\n",
    "# Show plot\n",
    "plt.show()"
   ]
  },
  {
   "cell_type": "markdown",
   "metadata": {},
   "source": [
    "#### Latitude vs. Wind Speed Plot"
   ]
  },
  {
   "cell_type": "code",
   "execution_count": null,
   "metadata": {},
   "outputs": [],
   "source": [
    "# Build the scatter plots for latitude vs. wind speed\n",
    "# YOUR CODE HERE\n",
    "\n",
    "# Incorporate the other graph properties\n",
    "# YOUR CODE HERE\n",
    "\n",
    "# Save the figure\n",
    "plt.savefig(\"output_data/Fig4.png\")\n",
    "\n",
    "# Show plot\n",
    "plt.show()"
   ]
  },
  {
   "cell_type": "markdown",
   "metadata": {},
   "source": [
    "---\n",
    "\n",
    "## Requirement 2: Compute Linear Regression for Each Relationship\n"
   ]
  },
  {
   "cell_type": "code",
   "execution_count": null,
   "metadata": {},
   "outputs": [],
   "source": [
    "# Define a function to create Linear Regression plots\n",
    "# YOUR CODE HERE"
   ]
  },
  {
   "cell_type": "code",
   "execution_count": null,
   "metadata": {},
   "outputs": [],
   "source": [
    "# Create a DataFrame with the Northern Hemisphere data (Latitude >= 0)\n",
    "# YOUR CODE HERE\n",
    "\n",
    "# Display sample data\n",
    "northern_hemi_df.head()"
   ]
  },
  {
   "cell_type": "code",
   "execution_count": null,
   "metadata": {},
   "outputs": [],
   "source": [
    "# Create a DataFrame with the Southern Hemisphere data (Latitude < 0)\n",
    "# YOUR CODE HERE\n",
    "\n",
    "# Display sample data\n",
    "southern_hemi_df.head()"
   ]
  },
  {
   "cell_type": "markdown",
   "metadata": {},
   "source": [
    "###  Temperature vs. Latitude Linear Regression Plot"
   ]
  },
  {
   "cell_type": "code",
   "execution_count": null,
   "metadata": {},
   "outputs": [],
   "source": [
    "# Linear regression on Northern Hemisphere\n",
    "# YOUR CODE HERE"
   ]
  },
  {
   "cell_type": "code",
   "execution_count": null,
   "metadata": {},
   "outputs": [],
   "source": [
    "# Linear regression on Southern Hemisphere\n",
    "# YOUR CODE HERE"
   ]
  },
  {
   "cell_type": "markdown",
   "metadata": {},
   "source": [
    "**Discussion about the linear relationship:** YOUR RESPONSE HERE"
   ]
  },
  {
   "cell_type": "markdown",
   "metadata": {},
   "source": [
    "### Humidity vs. Latitude Linear Regression Plot"
   ]
  },
  {
   "cell_type": "code",
   "execution_count": null,
   "metadata": {},
   "outputs": [],
   "source": [
    "# Northern Hemisphere\n",
    "# YOUR CODE HERE"
   ]
  },
  {
   "cell_type": "code",
   "execution_count": null,
   "metadata": {},
   "outputs": [],
   "source": [
    "# Southern Hemisphere\n",
    "# YOUR CODE HERE"
   ]
  },
  {
   "cell_type": "markdown",
   "metadata": {},
   "source": [
    "**Discussion about the linear relationship:** YOUR RESPONSE HERE"
   ]
  },
  {
   "cell_type": "markdown",
   "metadata": {},
   "source": [
    "### Cloudiness vs. Latitude Linear Regression Plot"
   ]
  },
  {
   "cell_type": "code",
   "execution_count": null,
   "metadata": {},
   "outputs": [],
   "source": [
    "# Northern Hemisphere\n",
    "# YOUR CODE HERE"
   ]
  },
  {
   "cell_type": "code",
   "execution_count": null,
   "metadata": {},
   "outputs": [],
   "source": [
    "# Southern Hemisphere\n",
    "# YOUR CODE HERE"
   ]
  },
  {
   "cell_type": "markdown",
   "metadata": {},
   "source": [
    "**Discussion about the linear relationship:** YOUR RESPONSE HERE"
   ]
  },
  {
   "cell_type": "markdown",
   "metadata": {},
   "source": [
    "### Wind Speed vs. Latitude Linear Regression Plot"
   ]
  },
  {
   "cell_type": "code",
   "execution_count": null,
   "metadata": {},
   "outputs": [],
   "source": [
    "# Northern Hemisphere\n",
    "# YOUR CODE HERE"
   ]
  },
  {
   "cell_type": "code",
   "execution_count": null,
   "metadata": {},
   "outputs": [],
   "source": [
    "# Southern Hemisphere\n",
    "# YOUR CODE HERE"
   ]
  },
  {
   "cell_type": "markdown",
   "metadata": {},
   "source": [
    "**Discussion about the linear relationship:** YOUR RESPONSE HERE"
   ]
  },
  {
   "cell_type": "code",
   "execution_count": null,
   "metadata": {},
   "outputs": [],
   "source": []
  }
 ],
 "metadata": {
  "anaconda-cloud": {},
  "kernel_info": {
   "name": "python3"
  },
  "kernelspec": {
   "display_name": "Python 3 (ipykernel)",
   "language": "python",
   "name": "python3"
  },
  "language_info": {
   "codemirror_mode": {
    "name": "ipython",
    "version": 3
   },
   "file_extension": ".py",
   "mimetype": "text/x-python",
   "name": "python",
   "nbconvert_exporter": "python",
   "pygments_lexer": "ipython3",
   "version": "3.11.5"
  },
  "latex_envs": {
   "LaTeX_envs_menu_present": true,
   "autoclose": false,
   "autocomplete": true,
   "bibliofile": "biblio.bib",
   "cite_by": "apalike",
   "current_citInitial": 1,
   "eqLabelWithNumbers": true,
   "eqNumInitial": 1,
   "hotkeys": {
    "equation": "Ctrl-E",
    "itemize": "Ctrl-I"
   },
   "labels_anchors": false,
   "latex_user_defs": false,
   "report_style_numbering": false,
   "user_envs_cfg": false
  },
  "nteract": {
   "version": "0.12.3"
  }
 },
 "nbformat": 4,
 "nbformat_minor": 4
}
